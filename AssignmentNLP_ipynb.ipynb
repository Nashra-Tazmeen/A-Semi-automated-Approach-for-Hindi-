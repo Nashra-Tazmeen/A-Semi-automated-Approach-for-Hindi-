{
  "nbformat": 4,
  "nbformat_minor": 0,
  "metadata": {
    "colab": {
      "provenance": [],
      "authorship_tag": "ABX9TyO/5X7qr+eoGraGZtu+nQY6",
      "include_colab_link": true
    },
    "kernelspec": {
      "name": "python3",
      "display_name": "Python 3"
    },
    "language_info": {
      "name": "python"
    }
  },
  "cells": [
    {
      "cell_type": "markdown",
      "metadata": {
        "id": "view-in-github",
        "colab_type": "text"
      },
      "source": [
        "<a href=\"https://colab.research.google.com/github/Nashra-Tazmeen/A-Semi-automated-Approach-for-Hindi-Neologism/blob/main/AssignmentNLP_ipynb.ipynb\" target=\"_parent\"><img src=\"https://colab.research.google.com/assets/colab-badge.svg\" alt=\"Open In Colab\"/></a>"
      ]
    },
    {
      "cell_type": "code",
      "execution_count": null,
      "metadata": {
        "colab": {
          "base_uri": "https://localhost:8080/"
        },
        "id": "GRp7B0TiXdVt",
        "outputId": "b78136ee-0780-4e75-9042-86e5b3b028e5"
      },
      "outputs": [
        {
          "output_type": "stream",
          "name": "stdout",
          "text": [
            "Requirement already satisfied: requests in /usr/local/lib/python3.10/dist-packages (2.31.0)\n",
            "Requirement already satisfied: beautifulsoup4 in /usr/local/lib/python3.10/dist-packages (4.12.3)\n",
            "Requirement already satisfied: charset-normalizer<4,>=2 in /usr/local/lib/python3.10/dist-packages (from requests) (3.3.2)\n",
            "Requirement already satisfied: idna<4,>=2.5 in /usr/local/lib/python3.10/dist-packages (from requests) (3.6)\n",
            "Requirement already satisfied: urllib3<3,>=1.21.1 in /usr/local/lib/python3.10/dist-packages (from requests) (2.0.7)\n",
            "Requirement already satisfied: certifi>=2017.4.17 in /usr/local/lib/python3.10/dist-packages (from requests) (2024.2.2)\n",
            "Requirement already satisfied: soupsieve>1.2 in /usr/local/lib/python3.10/dist-packages (from beautifulsoup4) (2.5)\n"
          ]
        }
      ],
      "source": [
        "pip install requests beautifulsoup4"
      ]
    },
    {
      "cell_type": "code",
      "source": [
        "import requests\n",
        "from bs4 import BeautifulSoup\n",
        "\n",
        "def scrape_webpage(url):\n",
        "    try:\n",
        "        headers = {\n",
        "            'User-Agent': 'Mozilla/5.0 (Windows NT 10.0; Win64; x64) AppleWebKit/537.36 (KHTML, like Gecko) Chrome/96.0.4664.110 Safari/537.36'\n",
        "        }\n",
        "        response = requests.get(url, headers=headers)\n",
        "        response.raise_for_status()\n",
        "        soup = BeautifulSoup(response.content, 'html.parser')\n",
        "        hindi_text = []\n",
        "        for element in soup.find_all('p'):\n",
        "            hindi_text.append(element.get_text())\n",
        "        return hindi_text\n",
        "    except Exception as e:\n",
        "        print(f\"An error occurred: {e}\")\n",
        "        return None\n",
        "\n",
        "url = 'https://www.unicef.org/india/hi/node/1121'\n",
        "corpus = scrape_webpage(url)\n",
        "\n",
        "if corpus:\n",
        "    for text in corpus:\n",
        "        print(text)\n"
      ],
      "metadata": {
        "colab": {
          "base_uri": "https://localhost:8080/"
        },
        "id": "f_Ttk7z9Xrzg",
        "outputId": "3b97a2b3-c80d-4776-bf92-c44ed5fc6941"
      },
      "execution_count": null,
      "outputs": [
        {
          "output_type": "stream",
          "name": "stdout",
          "text": [
            "नोवेल कोरोनावायरस क्या है ?\n",
            "नोवेल कोरोनावायरस, यह कोरोना वायरस का नया नस्ल है| सबसे पहले वुहान, चीन में पता लगने वाले नोवेल कोरोनावायरस से होने वाली बीमारी को कोरोनावायरस डिजीज (COVID-19/कोविड - 19) कहते हैं | \n",
            "CO कोरोना के लिए, VI - वायरस के लिए और D - डिजीज के लिए है | पहले इस बीमारी को ‘2019 नोवेल कोरोनावायरस’ या ‘2019-nCoV.’ के नाम से जाना जाता था |\n",
            "COVID-19/कोविड - 19 वायरस, Severe Acute Respiratory Syndrome (SARS) से जुड़ा हुआ एक नया वायरस है|\n",
            "COVID-19/कोविड - 19 वायरस किस तरह फैलता है?\n",
            "यह वायरस किसी पीड़ित व्यक्ति के खांसने या छींकने से सांस के कणों/बूंदों के सीधे संपर्क में आने से या वायरस से संक्रमित सतह को छूने से फैलता है | COVID-19/कोविड - 19 वायरस कुछ घंटों तक अपनी सतह पर जीवित रहता है लेकिन इसे किसी साधारण निस्संक्रामक से ख़त्म किया जा सकता है |कोरोनावायरस के लक्षण क्या हैं?\n",
            "इसके लक्षणों में बुखार, खांसी, जल्दी-जल्दी सांस लेना आदि हो सकता है | अधिक गंभीर मामलों में निमोनिया या सांस की तकलीफ आदि हो सकते हैं | और गंभीर लेकिन कम मामलों में इससे जान भी जा सकती है | इसके लक्षण फ्लू (इन्फ्लुएंजा) या सामान्य सर्दी-जुकाम से मिलते जुलते हैं, जिनकी सम्भावना COVID-19/कोविड - 19 की अपेक्षा अधिक है | \n",
            "इसलिए इसमें टेस्ट करना ज़रूरी है जिससे किसी को COVID-19/कोविड - 19 होने पर पता चल सके | ये जानना महत्वपूर्ण है कि इससे बचाव के वही सामान्य तरीके हैं - बार-बार हाथ धोना और सांस लेने सम्बन्धी सावधानियां (खांसते या छींकते समय टिश्यू या कोहनी को मोड़ कर अपना मुंह और नाक ढक लें और इस्तेमाल के बाद टिश्यू को किसी बंद कूड़ेदान में फ़ेंक दें) |\n",
            "इसके संक्रमण के खतरे से हम किस तरह बच सकते हैं?\n",
            "यहाँ चार सावधानियां बताई जा रही हैं, जिससे आप और आप का परिवार संक्रमण से बच सकता है:\n",
            "निरंतर अपना हाथ साबुन या अल्कोहल आधारित हैंड-रब से साफ़ करें |\n",
            "खांसते या छींकते समय टिश्यू या कोहनी को मोड़ कर अपना मुंह और नाक ढक लें और इस्तेमाल के बाद टिश्यू को नष्ट कर दें |\n",
            "अगर आपको या आपके बच्चे को बुखार, खांसी या सांस की तकलीफ हो तो अपने स्वास्थ्य कर्मी या डॉक्टर से संपर्क करें ।\n",
            "सर्दी-जुकाम या फ्लू के लक्षणों वाले किसी भी व्यक्ति के संपर्क में आने से बचें |\n",
            "क्या मुझे मेडिकल मास्क पहनना चाहिए?\n",
            "यदि आपको सांस से सम्बंधित लक्षण हैं (खांसी और छींकना) तो और लोगों को बचाने के लिए आपको मेडिकल मास्क पहनना चाहिए | अगर आपको कोई लक्षण नहीं है तो आपको मेडिकल मास्क पहनने की ज़रुरत नहीं है | \n",
            "अगर आप मास्क पहनते हैं तो उसे सही ढंग से इस्तेमाल करने के बाद नष्ट कर देना चाहिए जिससे उसका सही असर हो और उससे किसी और में वायरस का संक्रमण न फैले | \n",
            "केवल मास्क पहनने से ही संक्रमण से बचाव नहीं होता है, इसलिए इसके साथ बार-बार हाथ धोना, छींकते और खांसते समय मुंह ढकना और किसी सर्दी या फ्लू के लक्षणों (खांसी, छींक, बुखार) वाले व्यक्ति से सीधे संपर्क से बचना ज़रूरी है |  \n",
            "क्या COVID-19/कोविड - 19 बच्चों को प्रभावित करता है ?\n",
            "ये एक नया वायरस है और अभी हमें इस बारे में अधिक जानकारी नहीं है कि ये बच्चों को किस प्रकार प्रभावित करता है | हम जानते हैं कि इस वायरस से कोई भी प्रभावित हो सकता है लेकिन अभी तक COVID-19/कोविड - 19 से बच्चों के प्रभावित होने के कम मामले ही सामने आये हैं | मुख्य रूप से कोविड - 19 पहले से बीमार वृद्ध लोगों के मामले में अधिक प्रभावित करता है |\n",
            "अगर मेरे बच्चे में COVID-19/कोविड - 19 के लक्षण दिखें तो मुझे क्या करना चाहिए ?\n",
            "डॉक्टर को दिखाएँ, लेकिन याद रखें कि इस समय उत्तरी गोलार्द्ध (hemisphere) में फ्लू का मौसम चल रहा है और COVID-19/कोविड - 19 के लक्षण जैसे खांसी या बुखार फ्लू या असामान्य सर्दी-जुकाम में भी होते हैं - जिसकी सम्भावना बहुत अधिक है |\n",
            "हाथ और सांस सम्बन्धी स्वच्छता का पूरा ध्यान रखें, जैसे लगातार हाथ धोना और बच्चों को सभी टीके लगे होना - जिससे आपका बच्चा बीमारियां पैदा करने वाले अन्य वायरस और बैक्टीरिया से बचा रहे |\n",
            "आपको या आपके बच्चे को फ्लू की तरह अन्य सांस सम्बन्धी संक्रमण के लक्षण होने पर भीड़ वाली जगह (काम की जगह, स्कूल, पब्लिक ट्रांसपोर्ट) में जाने से बचें, जिससे अन्य लोगों में ये संक्रमण न फैले |\n",
            "अगर मेरे परिवार के किसी सदस्य में इसके लक्षण दिखें तो मुझे क्या करना चाहिए ?\n",
            "अगर आपको या आपके बच्चे को बुखार, खांसी या सांस की तकलीफ हो तो तुरंत डॉक्टर को दिखाना चाहिए | अगर आप किसी ऐसी जगह गए हैं जहाँ COVID-19/कोविड - 19 के मामले सामने आये हों, या किसी ऐसे व्यक्ति के संपर्क में आये हों जो ऐसे जगह पर गया हो और उसे सांस सम्बन्धी तकलीफ हो, तो आप पहले ही अपने डॉक्टर को संपर्क करें |\n",
            "क्या मुझे अपने बच्चे को स्कूल नहीं भेजना चाहिए ?\n",
            "अगर आपके बच्चे में ये लक्षण हैं तो डॉक्टरी मदद लें और डॉक्टर की सलाह मानें, अन्यथा फ्लू जैसे सांस के अन्य संक्रमण के मामले में बच्चे को घर पर आराम करने दें और भीड़ वाली जगह में जाने और संक्रमण फैलने से रोकें |\n",
            "अगर आपके बच्चे में बुखार, खाँसी जैसे लक्षण नहीं हैं और स्वास्थ्य या स्कूल सम्बन्धी कोई सलाह नहीं जारी किया गया है - तो बेहतर होगा कि आप अपने बच्चे को स्कूल भेजें |\n",
            "बच्चे को स्कूल न भेजने के बजाय उसे स्कूल और अन्य स्थानों पर हाथ और सांस सम्बन्धी स्वच्छता, जैसे बार-बार हाथ धोना (नीचे देखें), कोहनी मोड़ कर या टिश्यू से खांसते या छींकते समय मुंह और नाक ढक लेना और इस्तेमाल के बाद टिश्यू को किसी बंद कूड़ेदान में फ़ेंक देना और गंदे हाथ से अपनी आँख, मुंह या नाक न छूना आदि सिखाएं |\n",
            "सही ढंग से हाथ धुलने का सबसे अच्छा तरीका क्या है ?\n",
            "पहला चरण – नल के / बहते पानी में हाथ गीला करिए |\n",
            "दूसरा चरण – पूरे हाथ के लिए पर्याप्त साबुन लीजिये |\n",
            "तीसरा चरण – पूरे हाथ को कम से कम 20 सेकंड तक साबुन से मलिए – हाथ के पीछे, उँगलियों के बीच में और नाखूनों के अंदर भी |\n",
            "चौथा चरण - नल के / बहते पानी में हाथ अच्छे से धुलिये |\n",
            "पांचवां चरण – साफ़ कपड़े या एक बार इस्तेमाल करने वाले तौलिये से हाथ पोछें |\n",
            "निरंतर हाथ धोइए, विशेष रूप से खाने से पहले, नाक साफ करने के बाद, खांसने या छींकने के बाद और बाथरूम में जाने के बाद|\n",
            "अगर साबुन और पानी उपलब्ध न हो तो अल्कोहल युक्त सैनीटाईज़र, जिसमे कम से कम 60% अल्कोहल हो, से हाथ साफ़ करें | अगर हाथ देखने में गन्दा लग रहा हो तो, साबुन और पानी से हाथ साफ करें |\n",
            "यात्रा करते हुए मुझे अपने परिवार के लिए क्या सावधानियां बरतनी चाहिए ?\n",
            "किसी दूसरे देश की यात्रा करने से पहले वहां के सम्बन्ध में जारी कोई यात्रा सम्बन्धी सलाह, देश में प्रवेश के सम्बन्ध में किसी प्रकार की रोक, प्रवेश के समय क्वारंटाइन सम्बन्धी निर्देश या अन्य कोई सलाह के बारे में जानकारी प्राप्त कर लें |\n",
            "यात्रा सम्बन्धी सामान्य सावधानियों के साथ, क्वारंटाइन से बचने के लिए या अपने देश में वापस लौटने के प्रतिबन्ध से बचने के लिए, आपको इंटरनेशनल एयर ट्रांसपोर्ट एसोसिएशन की वेबसाइट पर COVID-19/कोविड –19 के बारे में ताज़ा स्थिति (the latest COVID-19 update on the International Air Transport Association website) की जानकारी प्राप्त कर लें |\n",
            "किसी भी यात्रा के दौरान सभी अभिभावक खुद के लिए और अपने बच्चों के सम्बन्ध में स्वच्छता सम्बन्धी मानकों का पालन करें: बार-बार हाथ धुलें या अल्कोहल युक्त सैनीटाईज़र, जिसमे कम से कम 60% अल्कोहल हो, से हाथ साफ़ करें, सांस सम्बन्धी स्वच्छता (कोहनी मोड़ कर या टिश्यू से खांसते या छींकते समय मुंह और नाक ढक लेना और इस्तेमाल के बाद टिश्यू को नष्ट कर देना) का पालन करें और किसी खांसने या छींकने वाले के संपर्क में आने से बचें | इसके अतिरिक्त अभिभावकों को ये सलाह है कि वे हमेश अपने साथ हाथ साफ करने वाला सैनीटाईज़र, डिस्पोजेबल टिश्यू और कीटाणु नाशक वाइप्स साथ रखें |\n",
            "इसके अतिरिक्त ये करने की भी सलाह दी जाती है की किसी विमान या अन्य किसी गाड़ी में बैठते समय कीटाणु नाशक वाइप्स से अपनी सीट, आर्म्स रेस्ट, टच स्क्रीन आदि को साफ कर लें | जिस होटल में आप और आपके बच्चे रुकें, वहां भी कीटाणु नाशक वाइप्स से चाबियाँ, दरवाजों के हैंडल, रिमोट कण्ट्रोल आदि साफ कर लें |  \n",
            "क्या किसी गर्भवती महिला से उसके बच्चे में कोरोनावायरस जा सकता है ?\n",
            "अभी तक इस विषय में पर्याप्त जानकारी उपलब्ध नहीं है कि किसी गर्भवती महिला से गर्भावस्था के दौरान उसके बच्चे में वायरस जा सकता है या नहीं और इसका उसके बच्चे पर क्या प्रभाव हो सकता है | इस बारे में शोध अभी जारी है | गर्भवती महिलाओं को इस वायरस के संपर्क में आने से बचने के लिए ज़रूरी सावधानियों को अपनाएं और बुखार, खांसी या सांस की तकलीफ जैसे लक्षण दिखने पर डॉक्टर को दिखाएँ|\n",
            "क्या कोरोना वायरस से पीड़ित माँ के द्वारा अपने बच्चे को स्तनपान करना सुरक्षित है ?\n",
            "इससे प्रभावित या अधिक जोखिम वाले क्षेत्रों में रहने वाली या बुखार, खांसी या सांस की तकलीफ की लक्षण वाली माताओं को डॉक्टरी सलाह लेनी चाहिए, और उनका पालन करना चाहिए |\n",
            "स्तनपान के फायदों को ध्यान में रखते हुए और श्वास सम्बन्धी अन्य वायरस की माँ के दूध में क्षीण भूमिका  को देखते हुए देखते हुए माताओं को अपने बच्चों को पूरी सावधानी के साथ स्तनपान कारन जारी रखना चाहिए |\n",
            "जैसा कि COVID-19/कोविड –19से संक्रमित या संभावित अन्य मामलों में सावधनी रखना चाहिए, इसके लक्षण वाली माताओं को भी, जो स्तनपान कराती हैं, सभी सावधानियां रखनी चाहिए जैसे मास्क पहनना, अपने बच्चे के पास जाते समय (या उसे स्तनपान कराते समय) अपना हाथ धुलना, संक्रमित सतहों को साफ / विसंक्रमित करना आदि |\n",
            "यदि माँ ज्यादा बीमार हो तो उनको, संक्रमण से बचाव के तरीके अपनाते हुए, अपना दूध निकल कर किसी साफ कप या चम्मच से बच्चे को पिलाने को कहना चाहिए|\n"
          ]
        }
      ]
    },
    {
      "cell_type": "markdown",
      "source": [
        "preprocess corpus by removing English words and punctuation"
      ],
      "metadata": {
        "id": "qmSIxSG7v-Dh"
      }
    },
    {
      "cell_type": "code",
      "source": [
        "import re\n",
        "\n",
        "\n",
        "def preprocess_corpus(corpus):\n",
        "    try:\n",
        "        preprocessed_corpus = []\n",
        "        for text in corpus:\n",
        "            # Preprocess each text element and append to preprocessed_corpus\n",
        "            preprocessed_text = remove_english_words(text)\n",
        "            preprocessed_corpus.append(preprocessed_text)\n",
        "        return preprocessed_corpus\n",
        "    except Exception as e:\n",
        "        print(f\"An error occurred during preprocessing: {e}\")\n",
        "        return None\n",
        "\n",
        "def remove_english_words(text):\n",
        "\n",
        "    english_alphabet_pattern = re.compile(r'[a-zA-Z]')\n",
        "\n",
        "\n",
        "    text = re.sub(r'[^\\w\\s]', '', text)\n",
        "\n",
        "\n",
        "    words = text.split()\n",
        "\n",
        "\n",
        "    filtered_words = [word for word in words if not english_alphabet_pattern.search(word)]\n",
        "\n",
        "\n",
        "    return ' '.join(filtered_words)\n",
        "\n",
        "\n",
        "\n",
        "preprocessed_data = preprocess_corpus(corpus)\n",
        "\n",
        "if preprocessed_data:\n",
        "    print(\"Preprocessed data:\")\n",
        "    for text in preprocessed_data[:2]:\n",
        "        print(text)\n",
        "else:\n",
        "    print(\"Failed to preprocess the data.\")\n"
      ],
      "metadata": {
        "colab": {
          "base_uri": "https://localhost:8080/"
        },
        "id": "74b4N5mOu11B",
        "outputId": "823994ae-c354-4dde-fe25-76376cab2093"
      },
      "execution_count": 65,
      "outputs": [
        {
          "output_type": "stream",
          "name": "stdout",
          "text": [
            "Preprocessed data:\n",
            "नवल करनवयरस कय ह नवल करनवयरस यह करन वयरस क नय नसल ह सबस पहल वहन चन म पत लगन वल नवल करनवयरस स हन वल बमर क करनवयरस डजज 19 कहत ह\n",
            "करन क लए वयरस क लए और डजज क लए ह पहल इस बमर क 2019 नवल करनवयरस य क नम स जन जत थ\n"
          ]
        }
      ]
    },
    {
      "cell_type": "code",
      "source": [
        "!git clone https://github.com/stopwords-iso/stopwords-hi.git"
      ],
      "metadata": {
        "colab": {
          "base_uri": "https://localhost:8080/"
        },
        "id": "G_4CUO4JbjlX",
        "outputId": "5d1a4b4e-add4-47a1-9026-5ff6f25cdd88"
      },
      "execution_count": 66,
      "outputs": [
        {
          "output_type": "stream",
          "name": "stdout",
          "text": [
            "fatal: destination path 'stopwords-hi' already exists and is not an empty directory.\n"
          ]
        }
      ]
    },
    {
      "cell_type": "code",
      "source": [
        "%cd stopwords-hi"
      ],
      "metadata": {
        "colab": {
          "base_uri": "https://localhost:8080/"
        },
        "id": "OZ09ETjVbwzf",
        "outputId": "6f8494b6-f5a7-465f-92f2-ea0f19e8f933"
      },
      "execution_count": 67,
      "outputs": [
        {
          "output_type": "stream",
          "name": "stdout",
          "text": [
            "/content/stopwords-hi/stopwords-hi\n"
          ]
        }
      ]
    },
    {
      "cell_type": "code",
      "source": [
        "\n",
        "stopwords_file_path = '/content/stopwords-hi/stopwords-hi.txt'\n",
        "\n",
        "\n",
        "with open(stopwords_file_path, 'r', encoding='utf-8') as f:\n",
        "\n",
        "    stopwords_content = f.read()\n",
        "\n",
        "\n",
        "print(stopwords_content)\n"
      ],
      "metadata": {
        "colab": {
          "base_uri": "https://localhost:8080/"
        },
        "id": "KjipCyxKcR9E",
        "outputId": "20a24b1a-a11c-4f76-83f1-89babcccc6f6"
      },
      "execution_count": 68,
      "outputs": [
        {
          "output_type": "stream",
          "name": "stdout",
          "text": [
            "अंदर\n",
            "अत\n",
            "अदि\n",
            "अप\n",
            "अपना\n",
            "अपनि\n",
            "अपनी\n",
            "अपने\n",
            "अभि\n",
            "अभी\n",
            "आदि\n",
            "आप\n",
            "इंहिं\n",
            "इंहें\n",
            "इंहों\n",
            "इतयादि\n",
            "इत्यादि\n",
            "इन\n",
            "इनका\n",
            "इन्हीं\n",
            "इन्हें\n",
            "इन्हों\n",
            "इस\n",
            "इसका\n",
            "इसकि\n",
            "इसकी\n",
            "इसके\n",
            "इसमें\n",
            "इसि\n",
            "इसी\n",
            "इसे\n",
            "उंहिं\n",
            "उंहें\n",
            "उंहों\n",
            "उन\n",
            "उनका\n",
            "उनकि\n",
            "उनकी\n",
            "उनके\n",
            "उनको\n",
            "उन्हीं\n",
            "उन्हें\n",
            "उन्हों\n",
            "उस\n",
            "उसके\n",
            "उसि\n",
            "उसी\n",
            "उसे\n",
            "एक\n",
            "एवं\n",
            "एस\n",
            "एसे\n",
            "ऐसे\n",
            "ओर\n",
            "और\n",
            "कइ\n",
            "कई\n",
            "कर\n",
            "करता\n",
            "करते\n",
            "करना\n",
            "करने\n",
            "करें\n",
            "कहते\n",
            "कहा\n",
            "का\n",
            "काफि\n",
            "काफ़ी\n",
            "कि\n",
            "किंहें\n",
            "किंहों\n",
            "कितना\n",
            "किन्हें\n",
            "किन्हों\n",
            "किया\n",
            "किर\n",
            "किस\n",
            "किसि\n",
            "किसी\n",
            "किसे\n",
            "की\n",
            "कुछ\n",
            "कुल\n",
            "के\n",
            "को\n",
            "कोइ\n",
            "कोई\n",
            "कोन\n",
            "कोनसा\n",
            "कौन\n",
            "कौनसा\n",
            "गया\n",
            "घर\n",
            "जब\n",
            "जहाँ\n",
            "जहां\n",
            "जा\n",
            "जिंहें\n",
            "जिंहों\n",
            "जितना\n",
            "जिधर\n",
            "जिन\n",
            "जिन्हें\n",
            "जिन्हों\n",
            "जिस\n",
            "जिसे\n",
            "जीधर\n",
            "जेसा\n",
            "जेसे\n",
            "जैसा\n",
            "जैसे\n",
            "जो\n",
            "तक\n",
            "तब\n",
            "तरह\n",
            "तिंहें\n",
            "तिंहों\n",
            "तिन\n",
            "तिन्हें\n",
            "तिन्हों\n",
            "तिस\n",
            "तिसे\n",
            "तो\n",
            "था\n",
            "थि\n",
            "थी\n",
            "थे\n",
            "दबारा\n",
            "दवारा\n",
            "दिया\n",
            "दुसरा\n",
            "दुसरे\n",
            "दूसरे\n",
            "दो\n",
            "द्वारा\n",
            "न\n",
            "नहिं\n",
            "नहीं\n",
            "ना\n",
            "निचे\n",
            "निहायत\n",
            "नीचे\n",
            "ने\n",
            "पर\n",
            "पहले\n",
            "पुरा\n",
            "पूरा\n",
            "पे\n",
            "फिर\n",
            "बनि\n",
            "बनी\n",
            "बहि\n",
            "बही\n",
            "बहुत\n",
            "बाद\n",
            "बाला\n",
            "बिलकुल\n",
            "भि\n",
            "भितर\n",
            "भी\n",
            "भीतर\n",
            "मगर\n",
            "मानो\n",
            "मे\n",
            "में\n",
            "यदि\n",
            "यह\n",
            "यहाँ\n",
            "यहां\n",
            "यहि\n",
            "यही\n",
            "या\n",
            "यिह\n",
            "ये\n",
            "रखें\n",
            "रवासा\n",
            "रहा\n",
            "रहे\n",
            "ऱ्वासा\n",
            "लिए\n",
            "लिये\n",
            "लेकिन\n",
            "व\n",
            "वगेरह\n",
            "वरग\n",
            "वर्ग\n",
            "वह\n",
            "वहाँ\n",
            "वहां\n",
            "वहिं\n",
            "वहीं\n",
            "वाले\n",
            "वुह\n",
            "वे\n",
            "वग़ैरह\n",
            "संग\n",
            "सकता\n",
            "सकते\n",
            "सबसे\n",
            "सभि\n",
            "सभी\n",
            "साथ\n",
            "साबुत\n",
            "साभ\n",
            "सारा\n",
            "से\n",
            "सो\n",
            "हि\n",
            "ही\n",
            "हुअ\n",
            "हुआ\n",
            "हुइ\n",
            "हुई\n",
            "हुए\n",
            "हे\n",
            "हें\n",
            "है\n",
            "हैं\n",
            "हो\n",
            "होता\n",
            "होति\n",
            "होती\n",
            "होते\n",
            "होना\n",
            "होने\n"
          ]
        }
      ]
    },
    {
      "cell_type": "markdown",
      "source": [
        " preprocess corpus by removing stop words and punctuation"
      ],
      "metadata": {
        "id": "4v4N5fzJwVmS"
      }
    },
    {
      "cell_type": "code",
      "source": [
        "import nltk\n",
        "import re\n",
        "\n",
        "\n",
        "def preprocess_corpus(corpus):\n",
        "    try:\n",
        "        preprocessed_corpus = []\n",
        "        for text in corpus:\n",
        "\n",
        "            preprocessed_text = remove_stop_words(text)\n",
        "            preprocessed_corpus.append(preprocessed_text)\n",
        "        return preprocessed_corpus\n",
        "    except Exception as e:\n",
        "        print(f\"An error occurred during preprocessing: {e}\")\n",
        "        return None\n",
        "\n",
        "def remove_stop_words(text):\n",
        "    # Load custom Hindi stopwords from file\n",
        "    stop_words_path = '/content/stopwords-hi/stopwords-hi.txt'\n",
        "    with open(stop_words_path, 'r', encoding='utf-8') as f:\n",
        "        stop_words = set(f.read().splitlines())\n",
        "\n",
        "\n",
        "    text = re.sub(r'[^\\w\\s]', '', text)\n",
        "\n",
        "    words = text.split()\n",
        "\n",
        "    filtered_words = [word for word in words if word not in stop_words]\n",
        "\n",
        "    return ' '.join(filtered_words)\n",
        "\n",
        "\n",
        "preprocessed_data = preprocess_corpus(corpus)\n",
        "\n",
        "\n",
        "if preprocessed_data:\n",
        "    print(\"Preprocessed data:\")\n",
        "    for text in preprocessed_data[:2]:\n",
        "        print(text)\n",
        "else:\n",
        "    print(\"Failed to preprocess the data.\")\n"
      ],
      "metadata": {
        "colab": {
          "base_uri": "https://localhost:8080/"
        },
        "id": "URiKFCEHdblX",
        "outputId": "c0a9876a-0354-42ba-f55e-3d7620989e06"
      },
      "execution_count": 69,
      "outputs": [
        {
          "output_type": "stream",
          "name": "stdout",
          "text": [
            "Preprocessed data:\n",
            "नवल करनवयरस कय ह नवल करनवयरस करन वयरस क नय नसल ह सबस पहल वहन चन म पत लगन वल नवल करनवयरस स हन वल बमर क करनवयरस डजज COVID19कवड 19 कहत ह\n",
            "CO करन क लए VI वयरस क लए D डजज क लए ह पहल बमर क 2019 नवल करनवयरस य 2019nCoV क नम स जन जत थ\n"
          ]
        }
      ]
    },
    {
      "cell_type": "code",
      "source": [
        "for text in corpus[:2]:\n",
        "  print(text)"
      ],
      "metadata": {
        "colab": {
          "base_uri": "https://localhost:8080/"
        },
        "id": "6WzjUmubdxRe",
        "outputId": "125aed97-6a45-4b41-afac-13ef9ad5869f"
      },
      "execution_count": 70,
      "outputs": [
        {
          "output_type": "stream",
          "name": "stdout",
          "text": [
            "नोवेल कोरोनावायरस क्या है ?\n",
            "नोवेल कोरोनावायरस, यह कोरोना वायरस का नया नस्ल है| सबसे पहले वुहान, चीन में पता लगने वाले नोवेल कोरोनावायरस से होने वाली बीमारी को कोरोनावायरस डिजीज (COVID-19/कोविड - 19) कहते हैं | \n",
            "CO कोरोना के लिए, VI - वायरस के लिए और D - डिजीज के लिए है | पहले इस बीमारी को ‘2019 नोवेल कोरोनावायरस’ या ‘2019-nCoV.’ के नाम से जाना जाता था |\n"
          ]
        }
      ]
    },
    {
      "cell_type": "code",
      "source": [
        "nltk.corpus"
      ],
      "metadata": {
        "colab": {
          "base_uri": "https://localhost:8080/"
        },
        "id": "AleuIuu18jZK",
        "outputId": "d7635d82-6cee-4453-b638-a6a70a71f5ea"
      },
      "execution_count": 71,
      "outputs": [
        {
          "output_type": "execute_result",
          "data": {
            "text/plain": [
              "<module 'nltk.corpus' from '/usr/local/lib/python3.10/dist-packages/nltk/corpus/__init__.py'>"
            ]
          },
          "metadata": {},
          "execution_count": 71
        }
      ]
    },
    {
      "cell_type": "code",
      "source": [
        "import nltk.data\n",
        "nltk.data.find('corpora')\n"
      ],
      "metadata": {
        "colab": {
          "base_uri": "https://localhost:8080/",
          "height": 34
        },
        "id": "i5YzZ7Jr9bOD",
        "outputId": "b7da3de9-0276-483d-8634-d22ab9c35516"
      },
      "execution_count": 72,
      "outputs": [
        {
          "output_type": "execute_result",
          "data": {
            "text/plain": [
              "FileSystemPathPointer('/root/nltk_data/corpora')"
            ],
            "application/vnd.google.colaboratory.intrinsic+json": {
              "type": "string"
            }
          },
          "metadata": {},
          "execution_count": 72
        }
      ]
    },
    {
      "cell_type": "code",
      "source": [
        "import nltk\n",
        "nltk.download('indian')\n"
      ],
      "metadata": {
        "id": "RuhKObmS-G5q"
      },
      "execution_count": null,
      "outputs": []
    },
    {
      "cell_type": "code",
      "source": [
        "nltk.corpus.indian.words('hindi.pos')"
      ],
      "metadata": {
        "colab": {
          "base_uri": "https://localhost:8080/"
        },
        "id": "D3G1cvBp-bB9",
        "outputId": "913df432-b09c-4a87-fed2-68a0aa56384d"
      },
      "execution_count": 73,
      "outputs": [
        {
          "output_type": "execute_result",
          "data": {
            "text/plain": [
              "['पूर्ण', 'प्रतिबंध', 'हटाओ', ':', 'इराक', 'संयुक्त', ...]"
            ]
          },
          "metadata": {},
          "execution_count": 73
        }
      ]
    },
    {
      "cell_type": "markdown",
      "source": [
        "Download Hindi Corpus"
      ],
      "metadata": {
        "id": "yWsxTvAawjVa"
      }
    },
    {
      "cell_type": "code",
      "source": [
        "import nltk\n",
        "\n",
        "\n",
        "nltk.download('indian')\n",
        "\n",
        "\n",
        "hindi_words = nltk.corpus.indian.words('hindi.pos')\n",
        "\n",
        "\n",
        "print(\"First few Hindi words:\")\n",
        "print(hindi_words)\n",
        "hindi_words = nltk.corpus.indian.words('hindi.pos')\n",
        "\n",
        "\n",
        "print(\"Size of the Hindi corpus:\", len(hindi_words))\n"
      ],
      "metadata": {
        "colab": {
          "base_uri": "https://localhost:8080/"
        },
        "id": "nneXbvE2_JJK",
        "outputId": "1d23ee7c-dcf2-417c-cb6c-98eaf28f7e28"
      },
      "execution_count": 74,
      "outputs": [
        {
          "output_type": "stream",
          "name": "stdout",
          "text": [
            "First few Hindi words:\n",
            "['पूर्ण', 'प्रतिबंध', 'हटाओ', ':', 'इराक', 'संयुक्त', ...]\n",
            "Size of the Hindi corpus: 9408\n"
          ]
        },
        {
          "output_type": "stream",
          "name": "stderr",
          "text": [
            "[nltk_data] Downloading package indian to /root/nltk_data...\n",
            "[nltk_data]   Package indian is already up-to-date!\n"
          ]
        }
      ]
    },
    {
      "cell_type": "code",
      "source": [
        "import nltk\n",
        "\n",
        "\n",
        "nltk.download('indian')\n",
        "\n",
        "\n",
        "hindi_words = nltk.corpus.indian.words('hindi.pos')\n",
        "\n",
        "print(\"Size of the Hindi corpus:\", len(hindi_words))\n"
      ],
      "metadata": {
        "colab": {
          "base_uri": "https://localhost:8080/"
        },
        "id": "T3TumcmR_VFc",
        "outputId": "14a6b838-2dc2-4fbe-97e4-b05b4d400c6c"
      },
      "execution_count": 75,
      "outputs": [
        {
          "output_type": "stream",
          "name": "stdout",
          "text": [
            "Size of the Hindi corpus: 9408\n"
          ]
        },
        {
          "output_type": "stream",
          "name": "stderr",
          "text": [
            "[nltk_data] Downloading package indian to /root/nltk_data...\n",
            "[nltk_data]   Package indian is already up-to-date!\n"
          ]
        }
      ]
    },
    {
      "cell_type": "markdown",
      "source": [],
      "metadata": {
        "id": "7AFnnA8CwwRW"
      }
    },
    {
      "cell_type": "markdown",
      "source": [
        "Loading Hindi Dictionary"
      ],
      "metadata": {
        "id": "t7_3AoCRw7a3"
      }
    },
    {
      "cell_type": "code",
      "source": [
        "import nltk\n",
        "import re\n",
        "from collections import Counter\n",
        "\n",
        "\n",
        "def load_hindi_dictionary():\n",
        "\n",
        "    try:\n",
        "        hindi_words_new = set(hindi_words)\n",
        "        return hindi_words\n",
        "    except LookupError:\n",
        "        nltk.download('words')\n",
        "        return set(nltk.corpus.words.words('hi'))\n",
        "\n",
        "\n",
        "def identify_and_rank_neologisms(preprocessed_data):\n",
        "\n",
        "    hindi_dictionary = load_hindi_dictionary()\n",
        "\n",
        "\n",
        "    neologisms = []\n",
        "    for text in preprocessed_data:\n",
        "        words = text.split()\n",
        "        for word in words:\n",
        "            if word not in hindi_dictionary:\n",
        "                neologisms.append(word)\n",
        "\n",
        "\n",
        "    neologism_counts = Counter(neologisms)\n",
        "    ranked_neologisms = neologism_counts.most_common()\n",
        "\n",
        "    return ranked_neologisms\n",
        "\n",
        "\n",
        "ranked_neologisms = identify_and_rank_neologisms(preprocessed_data)\n",
        "\n",
        "if ranked_neologisms:\n",
        "    print(\"Ranked Neologisms:\")\n",
        "    for word, count in ranked_neologisms:\n",
        "        print(f\"{word}: {count}\")\n",
        "else:\n",
        "    print(\"No neologisms found.\")\n"
      ],
      "metadata": {
        "colab": {
          "base_uri": "https://localhost:8080/"
        },
        "id": "lvHlDsJxejpw",
        "outputId": "d6553f43-4162-40a0-e601-93c25b4f0586"
      },
      "execution_count": 76,
      "outputs": [
        {
          "output_type": "stream",
          "name": "stdout",
          "text": [
            "Ranked Neologisms:\n",
            "ह: 71\n",
            "य: 49\n",
            "बचच: 24\n",
            "हथ: 23\n",
            "अपन: 19\n",
            "करन: 18\n",
            "वयरस: 16\n",
            "लकषण: 16\n",
            "सस: 15\n",
            "समबनध: 15\n",
            "आपक: 15\n",
            "कय: 14\n",
            "वल: 14\n",
            "चहए: 14\n",
            "COVID19कवड: 13\n",
            "19: 13\n",
            "त: 13\n",
            "अगर: 11\n",
            "लए: 10\n",
            "सकत: 10\n",
            "बद: 10\n",
            "इसक: 9\n",
            "खस: 9\n",
            "भ: 9\n",
            "फल: 9\n",
            "टशय: 9\n",
            "सकरमण: 9\n",
            "नह: 9\n",
            "जस: 9\n",
            "अनय: 9\n",
            "सपरक: 8\n",
            "बखर: 8\n",
            "डकटर: 8\n",
            "करनवयरस: 7\n",
            "ज: 7\n",
            "ममल: 7\n",
            "ल: 7\n",
            "बच: 7\n",
            "सलह: 7\n",
            "सफ: 7\n",
            "आद: 6\n",
            "अधक: 6\n",
            "तकलफ: 6\n",
            "सवधनय: 6\n",
            "मह: 6\n",
            "नक: 6\n",
            "इसतमल: 6\n",
            "मसक: 6\n",
            "परभवत: 6\n",
            "करत: 6\n",
            "सकल: 6\n",
            "हन: 5\n",
            "जन: 5\n",
            "लन: 5\n",
            "जसस: 5\n",
            "खसत: 5\n",
            "छकत: 5\n",
            "कहन: 5\n",
            "सबन: 5\n",
            "अलकहल: 5\n",
            "मझ: 5\n",
            "पहनन: 5\n",
            "बचन: 5\n",
            "सथ: 5\n",
            "बर: 5\n",
            "चरण: 5\n",
            "यतर: 5\n",
            "हए: 5\n",
            "सतनपन: 5\n",
            "नवल: 4\n",
            "बमर: 4\n",
            "वयकत: 4\n",
            "छकन: 4\n",
            "आन: 4\n",
            "लकन: 4\n",
            "बरबर: 4\n",
            "मड़: 4\n",
            "ढक: 4\n",
            "सफ़: 4\n",
            "उसक: 4\n",
            "अभ: 4\n",
            "जनकर: 4\n",
            "सवचछत: 4\n",
            "जर: 4\n",
            "पन: 4\n",
            "पलन: 4\n",
            "नय: 3\n",
            "जत: 3\n",
            "खसन: 3\n",
            "सकरमत: 3\n",
            "सतह: 3\n",
            "इसस: 3\n",
            "समनय: 3\n",
            "सरदजकम: 3\n",
            "ज़रर: 3\n",
            "बचव: 3\n",
            "तरक: 3\n",
            "परवर: 3\n",
            "नषट: 3\n",
            "मडकल: 3\n",
            "यद: 3\n",
            "सह: 3\n",
            "दन: 3\n",
            "आय: 3\n",
            "दख: 3\n",
            "रख: 3\n",
            "बहत: 3\n",
            "सभ: 3\n",
            "दखन: 3\n",
            "ऐस: 3\n",
            "रक: 3\n",
            "सनटईज़र: 3\n",
            "दश: 3\n",
            "कटण: 3\n",
            "नशक: 3\n",
            "वइपस: 3\n",
            "गरभवत: 3\n",
            "मतओ: 3\n",
            "रखन: 3\n",
            "सबस: 2\n",
            "पत: 2\n",
            "डजज: 2\n",
            "फलत: 2\n",
            "पड़त: 2\n",
            "सध: 2\n",
            "छन: 2\n",
            "गभर: 2\n",
            "समभवन: 2\n",
            "इसलए: 2\n",
            "कड़दन: 2\n",
            "फ़क: 2\n",
            "नरतर: 2\n",
            "सवसथय: 2\n",
            "ढग: 2\n",
            "हत: 2\n",
            "परकर: 2\n",
            "समन: 2\n",
            "रप: 2\n",
            "मर: 2\n",
            "दखए: 2\n",
            "धयन: 2\n",
            "भड़: 2\n",
            "टरसपरट: 2\n",
            "गय: 2\n",
            "भजन: 2\n",
            "धलन: 2\n",
            "अचछ: 2\n",
            "नल: 2\n",
            "दसर: 2\n",
            "परयपत: 2\n",
            "पछ: 2\n",
            "उपलबध: 2\n",
            "यकत: 2\n",
            "जसम: 2\n",
            "60: 2\n",
            "परवश: 2\n",
            "कवरटइन: 2\n",
            "परपत: 2\n",
            "the: 2\n",
            "दरन: 2\n",
            "अभभवक: 2\n",
            "अतरकत: 2\n",
            "महल: 2\n",
            "उनक: 2\n",
            "दध: 2\n",
            "दखत: 2\n",
            "सवधन: 2\n",
            "नसल: 1\n",
            "वहन: 1\n",
            "चन: 1\n",
            "लगन: 1\n",
            "कहत: 1\n",
            "CO: 1\n",
            "VI: 1\n",
            "D: 1\n",
            "2019: 1\n",
            "2019nCoV: 1\n",
            "नम: 1\n",
            "थ: 1\n",
            "Severe: 1\n",
            "Acute: 1\n",
            "Respiratory: 1\n",
            "Syndrome: 1\n",
            "SARS: 1\n",
            "जड़: 1\n",
            "हआ: 1\n",
            "कणबद: 1\n",
            "कछ: 1\n",
            "जवत: 1\n",
            "रहत: 1\n",
            "सधरण: 1\n",
            "नससकरमक: 1\n",
            "ख़तम: 1\n",
            "जलदजलद: 1\n",
            "नमनय: 1\n",
            "इनफलएज: 1\n",
            "मलत: 1\n",
            "जलत: 1\n",
            "जनक: 1\n",
            "अपकष: 1\n",
            "इसम: 1\n",
            "टसट: 1\n",
            "जनन: 1\n",
            "महतवपरण: 1\n",
            "खतर: 1\n",
            "चर: 1\n",
            "बतई: 1\n",
            "आधरत: 1\n",
            "हडरब: 1\n",
            "करम: 1\n",
            "समबधत: 1\n",
            "ज़ररत: 1\n",
            "पहनत: 1\n",
            "असर: 1\n",
            "उसस: 1\n",
            "कवल: 1\n",
            "ढकन: 1\n",
            "सरद: 1\n",
            "छक: 1\n",
            "जनत: 1\n",
            "मखय: 1\n",
            "कवड: 1\n",
            "वदध: 1\n",
            "उततर: 1\n",
            "गलरदध: 1\n",
            "hemisphere: 1\n",
            "मसम: 1\n",
            "असमनय: 1\n",
            "जसक: 1\n",
            "लगतर: 1\n",
            "टक: 1\n",
            "बमरय: 1\n",
            "बकटरय: 1\n",
            "पबलक: 1\n",
            "सदसय: 1\n",
            "तरत: 1\n",
            "जह: 1\n",
            "मन: 1\n",
            "अनयथ: 1\n",
            "आरम: 1\n",
            "फलन: 1\n",
            "बहतर: 1\n",
            "हग: 1\n",
            "भज: 1\n",
            "बजय: 1\n",
            "सथन: 1\n",
            "नच: 1\n",
            "गद: 1\n",
            "आख: 1\n",
            "सखए: 1\n",
            "गल: 1\n",
            "करए: 1\n",
            "लजय: 1\n",
            "तसर: 1\n",
            "20: 1\n",
            "सकड: 1\n",
            "मलए: 1\n",
            "उगलय: 1\n",
            "नखन: 1\n",
            "अदर: 1\n",
            "चथ: 1\n",
            "धलय: 1\n",
            "पचव: 1\n",
            "कपड़: 1\n",
            "तलय: 1\n",
            "धइए: 1\n",
            "वशष: 1\n",
            "खन: 1\n",
            "बथरम: 1\n",
            "गनद: 1\n",
            "बरतन: 1\n",
            "नरदश: 1\n",
            "वपस: 1\n",
            "लटन: 1\n",
            "परतबनध: 1\n",
            "इटरनशनल: 1\n",
            "एयर: 1\n",
            "एससएशन: 1\n",
            "वबसइट: 1\n",
            "तज़: 1\n",
            "सथत: 1\n",
            "latest: 1\n",
            "COVID19: 1\n",
            "update: 1\n",
            "on: 1\n",
            "International: 1\n",
            "Air: 1\n",
            "Transport: 1\n",
            "Association: 1\n",
            "website: 1\n",
            "खद: 1\n",
            "मनक: 1\n",
            "धल: 1\n",
            "हमश: 1\n",
            "डसपजबल: 1\n",
            "वमन: 1\n",
            "गड़: 1\n",
            "बठत: 1\n",
            "सट: 1\n",
            "आरमस: 1\n",
            "रसट: 1\n",
            "टच: 1\n",
            "सकरन: 1\n",
            "हटल: 1\n",
            "चबय: 1\n",
            "दरवज: 1\n",
            "हडल: 1\n",
            "रमट: 1\n",
            "कणटरल: 1\n",
            "वषय: 1\n",
            "गरभवसथ: 1\n",
            "परभव: 1\n",
            "शध: 1\n",
            "महलओ: 1\n",
            "अपनए: 1\n",
            "दवर: 1\n",
            "सरकषत: 1\n",
            "जखम: 1\n",
            "कषतर: 1\n",
            "फयद: 1\n",
            "रखत: 1\n",
            "शवस: 1\n",
            "कषण: 1\n",
            "भमक: 1\n",
            "19स: 1\n",
            "सभवत: 1\n",
            "पस: 1\n",
            "वसकरमत: 1\n",
            "जयद: 1\n",
            "अपनत: 1\n",
            "नकल: 1\n",
            "चममच: 1\n"
          ]
        }
      ]
    },
    {
      "cell_type": "code",
      "source": [
        "len(ranked_neologisms)"
      ],
      "metadata": {
        "colab": {
          "base_uri": "https://localhost:8080/"
        },
        "id": "ZZNKda6UDg6G",
        "outputId": "431bc95e-3a8e-49d5-b98c-392658675bc1"
      },
      "execution_count": 77,
      "outputs": [
        {
          "output_type": "execute_result",
          "data": {
            "text/plain": [
              "332"
            ]
          },
          "metadata": {},
          "execution_count": 77
        }
      ]
    },
    {
      "cell_type": "markdown",
      "source": [
        "Sort neologisms in descending order of frequency"
      ],
      "metadata": {
        "id": "wpvYx8smxJUQ"
      }
    },
    {
      "cell_type": "code",
      "source": [
        "\n",
        "\n",
        "ranked_neologisms.sort(key=lambda x: x[1], reverse=True)\n",
        "\n",
        "for word, frequency in ranked_neologisms:\n",
        "    print(f\"{word}: {frequency}\")\n"
      ],
      "metadata": {
        "id": "_ombXCwYeCtX",
        "colab": {
          "base_uri": "https://localhost:8080/"
        },
        "outputId": "9e5131e4-38ff-43e2-94a8-433b5a3bd23a"
      },
      "execution_count": 78,
      "outputs": [
        {
          "output_type": "stream",
          "name": "stdout",
          "text": [
            "ह: 71\n",
            "य: 49\n",
            "बचच: 24\n",
            "हथ: 23\n",
            "अपन: 19\n",
            "करन: 18\n",
            "वयरस: 16\n",
            "लकषण: 16\n",
            "सस: 15\n",
            "समबनध: 15\n",
            "आपक: 15\n",
            "कय: 14\n",
            "वल: 14\n",
            "चहए: 14\n",
            "COVID19कवड: 13\n",
            "19: 13\n",
            "त: 13\n",
            "अगर: 11\n",
            "लए: 10\n",
            "सकत: 10\n",
            "बद: 10\n",
            "इसक: 9\n",
            "खस: 9\n",
            "भ: 9\n",
            "फल: 9\n",
            "टशय: 9\n",
            "सकरमण: 9\n",
            "नह: 9\n",
            "जस: 9\n",
            "अनय: 9\n",
            "सपरक: 8\n",
            "बखर: 8\n",
            "डकटर: 8\n",
            "करनवयरस: 7\n",
            "ज: 7\n",
            "ममल: 7\n",
            "ल: 7\n",
            "बच: 7\n",
            "सलह: 7\n",
            "सफ: 7\n",
            "आद: 6\n",
            "अधक: 6\n",
            "तकलफ: 6\n",
            "सवधनय: 6\n",
            "मह: 6\n",
            "नक: 6\n",
            "इसतमल: 6\n",
            "मसक: 6\n",
            "परभवत: 6\n",
            "करत: 6\n",
            "सकल: 6\n",
            "हन: 5\n",
            "जन: 5\n",
            "लन: 5\n",
            "जसस: 5\n",
            "खसत: 5\n",
            "छकत: 5\n",
            "कहन: 5\n",
            "सबन: 5\n",
            "अलकहल: 5\n",
            "मझ: 5\n",
            "पहनन: 5\n",
            "बचन: 5\n",
            "सथ: 5\n",
            "बर: 5\n",
            "चरण: 5\n",
            "यतर: 5\n",
            "हए: 5\n",
            "सतनपन: 5\n",
            "नवल: 4\n",
            "बमर: 4\n",
            "वयकत: 4\n",
            "छकन: 4\n",
            "आन: 4\n",
            "लकन: 4\n",
            "बरबर: 4\n",
            "मड़: 4\n",
            "ढक: 4\n",
            "सफ़: 4\n",
            "उसक: 4\n",
            "अभ: 4\n",
            "जनकर: 4\n",
            "सवचछत: 4\n",
            "जर: 4\n",
            "पन: 4\n",
            "पलन: 4\n",
            "नय: 3\n",
            "जत: 3\n",
            "खसन: 3\n",
            "सकरमत: 3\n",
            "सतह: 3\n",
            "इसस: 3\n",
            "समनय: 3\n",
            "सरदजकम: 3\n",
            "ज़रर: 3\n",
            "बचव: 3\n",
            "तरक: 3\n",
            "परवर: 3\n",
            "नषट: 3\n",
            "मडकल: 3\n",
            "यद: 3\n",
            "सह: 3\n",
            "दन: 3\n",
            "आय: 3\n",
            "दख: 3\n",
            "रख: 3\n",
            "बहत: 3\n",
            "सभ: 3\n",
            "दखन: 3\n",
            "ऐस: 3\n",
            "रक: 3\n",
            "सनटईज़र: 3\n",
            "दश: 3\n",
            "कटण: 3\n",
            "नशक: 3\n",
            "वइपस: 3\n",
            "गरभवत: 3\n",
            "मतओ: 3\n",
            "रखन: 3\n",
            "सबस: 2\n",
            "पत: 2\n",
            "डजज: 2\n",
            "फलत: 2\n",
            "पड़त: 2\n",
            "सध: 2\n",
            "छन: 2\n",
            "गभर: 2\n",
            "समभवन: 2\n",
            "इसलए: 2\n",
            "कड़दन: 2\n",
            "फ़क: 2\n",
            "नरतर: 2\n",
            "सवसथय: 2\n",
            "ढग: 2\n",
            "हत: 2\n",
            "परकर: 2\n",
            "समन: 2\n",
            "रप: 2\n",
            "मर: 2\n",
            "दखए: 2\n",
            "धयन: 2\n",
            "भड़: 2\n",
            "टरसपरट: 2\n",
            "गय: 2\n",
            "भजन: 2\n",
            "धलन: 2\n",
            "अचछ: 2\n",
            "नल: 2\n",
            "दसर: 2\n",
            "परयपत: 2\n",
            "पछ: 2\n",
            "उपलबध: 2\n",
            "यकत: 2\n",
            "जसम: 2\n",
            "60: 2\n",
            "परवश: 2\n",
            "कवरटइन: 2\n",
            "परपत: 2\n",
            "the: 2\n",
            "दरन: 2\n",
            "अभभवक: 2\n",
            "अतरकत: 2\n",
            "महल: 2\n",
            "उनक: 2\n",
            "दध: 2\n",
            "दखत: 2\n",
            "सवधन: 2\n",
            "नसल: 1\n",
            "वहन: 1\n",
            "चन: 1\n",
            "लगन: 1\n",
            "कहत: 1\n",
            "CO: 1\n",
            "VI: 1\n",
            "D: 1\n",
            "2019: 1\n",
            "2019nCoV: 1\n",
            "नम: 1\n",
            "थ: 1\n",
            "Severe: 1\n",
            "Acute: 1\n",
            "Respiratory: 1\n",
            "Syndrome: 1\n",
            "SARS: 1\n",
            "जड़: 1\n",
            "हआ: 1\n",
            "कणबद: 1\n",
            "कछ: 1\n",
            "जवत: 1\n",
            "रहत: 1\n",
            "सधरण: 1\n",
            "नससकरमक: 1\n",
            "ख़तम: 1\n",
            "जलदजलद: 1\n",
            "नमनय: 1\n",
            "इनफलएज: 1\n",
            "मलत: 1\n",
            "जलत: 1\n",
            "जनक: 1\n",
            "अपकष: 1\n",
            "इसम: 1\n",
            "टसट: 1\n",
            "जनन: 1\n",
            "महतवपरण: 1\n",
            "खतर: 1\n",
            "चर: 1\n",
            "बतई: 1\n",
            "आधरत: 1\n",
            "हडरब: 1\n",
            "करम: 1\n",
            "समबधत: 1\n",
            "ज़ररत: 1\n",
            "पहनत: 1\n",
            "असर: 1\n",
            "उसस: 1\n",
            "कवल: 1\n",
            "ढकन: 1\n",
            "सरद: 1\n",
            "छक: 1\n",
            "जनत: 1\n",
            "मखय: 1\n",
            "कवड: 1\n",
            "वदध: 1\n",
            "उततर: 1\n",
            "गलरदध: 1\n",
            "hemisphere: 1\n",
            "मसम: 1\n",
            "असमनय: 1\n",
            "जसक: 1\n",
            "लगतर: 1\n",
            "टक: 1\n",
            "बमरय: 1\n",
            "बकटरय: 1\n",
            "पबलक: 1\n",
            "सदसय: 1\n",
            "तरत: 1\n",
            "जह: 1\n",
            "मन: 1\n",
            "अनयथ: 1\n",
            "आरम: 1\n",
            "फलन: 1\n",
            "बहतर: 1\n",
            "हग: 1\n",
            "भज: 1\n",
            "बजय: 1\n",
            "सथन: 1\n",
            "नच: 1\n",
            "गद: 1\n",
            "आख: 1\n",
            "सखए: 1\n",
            "गल: 1\n",
            "करए: 1\n",
            "लजय: 1\n",
            "तसर: 1\n",
            "20: 1\n",
            "सकड: 1\n",
            "मलए: 1\n",
            "उगलय: 1\n",
            "नखन: 1\n",
            "अदर: 1\n",
            "चथ: 1\n",
            "धलय: 1\n",
            "पचव: 1\n",
            "कपड़: 1\n",
            "तलय: 1\n",
            "धइए: 1\n",
            "वशष: 1\n",
            "खन: 1\n",
            "बथरम: 1\n",
            "गनद: 1\n",
            "बरतन: 1\n",
            "नरदश: 1\n",
            "वपस: 1\n",
            "लटन: 1\n",
            "परतबनध: 1\n",
            "इटरनशनल: 1\n",
            "एयर: 1\n",
            "एससएशन: 1\n",
            "वबसइट: 1\n",
            "तज़: 1\n",
            "सथत: 1\n",
            "latest: 1\n",
            "COVID19: 1\n",
            "update: 1\n",
            "on: 1\n",
            "International: 1\n",
            "Air: 1\n",
            "Transport: 1\n",
            "Association: 1\n",
            "website: 1\n",
            "खद: 1\n",
            "मनक: 1\n",
            "धल: 1\n",
            "हमश: 1\n",
            "डसपजबल: 1\n",
            "वमन: 1\n",
            "गड़: 1\n",
            "बठत: 1\n",
            "सट: 1\n",
            "आरमस: 1\n",
            "रसट: 1\n",
            "टच: 1\n",
            "सकरन: 1\n",
            "हटल: 1\n",
            "चबय: 1\n",
            "दरवज: 1\n",
            "हडल: 1\n",
            "रमट: 1\n",
            "कणटरल: 1\n",
            "वषय: 1\n",
            "गरभवसथ: 1\n",
            "परभव: 1\n",
            "शध: 1\n",
            "महलओ: 1\n",
            "अपनए: 1\n",
            "दवर: 1\n",
            "सरकषत: 1\n",
            "जखम: 1\n",
            "कषतर: 1\n",
            "फयद: 1\n",
            "रखत: 1\n",
            "शवस: 1\n",
            "कषण: 1\n",
            "भमक: 1\n",
            "19स: 1\n",
            "सभवत: 1\n",
            "पस: 1\n",
            "वसकरमत: 1\n",
            "जयद: 1\n",
            "अपनत: 1\n",
            "नकल: 1\n",
            "चममच: 1\n"
          ]
        }
      ]
    },
    {
      "cell_type": "code",
      "source": [
        "\n",
        "top_neologisms = ranked_neologisms[:30]\n",
        "\n",
        "\n",
        "for word, frequency in top_neologisms:\n",
        "    print(f\"{word}: {frequency}\")"
      ],
      "metadata": {
        "colab": {
          "base_uri": "https://localhost:8080/"
        },
        "id": "-z028Zuze_dy",
        "outputId": "55681905-6a6e-4b34-c6dd-416ce58b6655"
      },
      "execution_count": null,
      "outputs": [
        {
          "output_type": "stream",
          "name": "stdout",
          "text": [
            "ह: 71\n",
            "य: 49\n",
            "बचच: 24\n",
            "हथ: 23\n",
            "अपन: 19\n",
            "करन: 18\n",
            "वयरस: 16\n",
            "लकषण: 16\n",
            "सस: 15\n",
            "समबनध: 15\n",
            "आपक: 15\n",
            "कय: 14\n",
            "वल: 14\n",
            "चहए: 14\n",
            "COVID19कवड: 13\n",
            "19: 13\n",
            "त: 13\n",
            "अगर: 11\n",
            "लए: 10\n",
            "सकत: 10\n",
            "बद: 10\n",
            "इसक: 9\n",
            "खस: 9\n",
            "भ: 9\n",
            "फल: 9\n",
            "टशय: 9\n",
            "सकरमण: 9\n",
            "नह: 9\n",
            "जस: 9\n",
            "अनय: 9\n"
          ]
        }
      ]
    },
    {
      "cell_type": "markdown",
      "source": [
        "Filter Neologism Words"
      ],
      "metadata": {
        "id": "kxGmihiOxW0P"
      }
    },
    {
      "cell_type": "code",
      "source": [
        "\n",
        "covid_words = [\"लकषण\", \"वयरस\", \"सस\",\"COVID19कवड\"]\n",
        "\n",
        "\n",
        "neologisms = [(word, freq) for word, freq in top_neologisms if word in covid_words]\n",
        "\n",
        "fre_count1=0\n",
        "print(\"True_Neologism words:\")\n",
        "for word, freq in neologisms:\n",
        "    fre_count1=fre_count1+freq\n",
        "    print(word, freq)\n",
        "True_neologism_count=fre_count1\n",
        "print(true_neologism_count)"
      ],
      "metadata": {
        "colab": {
          "base_uri": "https://localhost:8080/"
        },
        "id": "kwGKaD2YmSOo",
        "outputId": "c95bc036-e331-445b-fe13-7589504de046"
      },
      "execution_count": null,
      "outputs": [
        {
          "output_type": "stream",
          "name": "stdout",
          "text": [
            "True_Neologism words:\n",
            "वयरस 16\n",
            "लकषण 16\n",
            "सस 15\n",
            "COVID19कवड 13\n",
            "75\n"
          ]
        }
      ]
    },
    {
      "cell_type": "code",
      "source": [
        "covid_words = [\"फल\",\"समबनध\",\"बचच\"]\n",
        "\n",
        "neologisms = [(word, freq) for word, freq in top_neologisms if word in covid_words]\n",
        "\n",
        "\n",
        "fre_count2=0\n",
        "print(\"Derived_Neologism words:\")\n",
        "for word, freq in neologisms:\n",
        "    fre_count2=fre_count2+freq\n",
        "    print(word, freq)\n",
        "Derived_neologism_count=fre_count2\n",
        "print(derived_neologism_count)"
      ],
      "metadata": {
        "colab": {
          "base_uri": "https://localhost:8080/"
        },
        "id": "mIkFilIjpkB_",
        "outputId": "8f73bb26-b69f-4a20-c6fd-70712f48047f"
      },
      "execution_count": null,
      "outputs": [
        {
          "output_type": "stream",
          "name": "stdout",
          "text": [
            "Derived_Neologism words:\n",
            "बचच 24\n",
            "समबनध 15\n",
            "फल 9\n",
            "48\n"
          ]
        }
      ]
    },
    {
      "cell_type": "markdown",
      "source": [
        "plotting True and Derived Neologism Words"
      ],
      "metadata": {
        "id": "JMOAl123xdlf"
      }
    },
    {
      "cell_type": "code",
      "source": [
        "import matplotlib.pyplot as plt\n",
        "\n",
        "\n",
        "\n",
        "\n",
        "# Labels for the bars\n",
        "labels = ['True Neologisms', 'Derived Neologisms']\n",
        "\n",
        "# Heights of the bars\n",
        "heights = [True_neologism_count, Derived_neologism_count]\n",
        "\n",
        "# Colors for the bars\n",
        "colors = ['blue', 'red']\n",
        "\n",
        "# Creating the bar plot\n",
        "plt.figure(figsize=(4, 4))\n",
        "plt.bar(labels, heights, color=colors)\n",
        "plt.xlabel('Neologism Type')\n",
        "plt.ylabel('Count')\n",
        "plt.title('Counts of True and Derived Neologisms')\n",
        "plt.show()\n"
      ],
      "metadata": {
        "colab": {
          "base_uri": "https://localhost:8080/",
          "height": 410
        },
        "id": "VVeQFnDFs1JC",
        "outputId": "365644b3-a345-496e-8189-d496623efc75"
      },
      "execution_count": 79,
      "outputs": [
        {
          "output_type": "display_data",
          "data": {
            "text/plain": [
              "<Figure size 400x400 with 1 Axes>"
            ],
            "image/png": "[encoded data removed]"
          },
          "metadata": {}
        }
      ]
    }
  ]
}